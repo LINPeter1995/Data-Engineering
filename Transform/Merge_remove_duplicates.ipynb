{
 "cells": [
  {
   "cell_type": "code",
   "execution_count": null,
   "id": "75a93971",
   "metadata": {},
   "outputs": [
    {
     "name": "stdout",
     "output_type": "stream",
     "text": [
      "檔案名稱: C:/Tibame-TJR101-T1/Peter/Data/StoreList\\士林夜市小吃攤.csv\n",
      "檔案名稱: C:/Tibame-TJR101-T1/Peter/Data/StoreList\\士林夜市攤販.csv\n",
      "檔案名稱: C:/Tibame-TJR101-T1/Peter/Data/StoreList\\士林夜市甜點.csv\n",
      "檔案名稱: C:/Tibame-TJR101-T1/Peter/Data/StoreList\\士林夜市美食.csv\n",
      "檔案名稱: C:/Tibame-TJR101-T1/Peter/Data/StoreList\\士林夜市飲料店.csv\n",
      "檔案名稱: C:/Tibame-TJR101-T1/Peter/Data/StoreList\\士林夜市餐廳.csv\n"
     ]
    }
   ],
   "source": [
    "import pandas as pd\n",
    "import glob\n",
    "import os\n",
    "# 設定 CSV 檔案的路徑\n",
    "files = glob.glob(\"Load/StoreList/*.csv\")  \n",
    "# 如果需要逐一列出檔案名稱\n",
    "for file in files:\n",
    "    print(f\"檔案名稱: {file}\")"
   ]
  },
  {
   "cell_type": "code",
   "execution_count": null,
   "id": "30a24d4a",
   "metadata": {},
   "outputs": [],
   "source": [
    "# 設定 CSV 檔案的路徑\n",
    "files = glob.glob(\"Load/StoreList/*.csv\")\n",
    "output_path = \"C:/Load/StoreList/合併後的資料.csv\"\n",
    "deduplicated_output_path = \"C:/Tibame-TJR101-T1/Peter/Data/StoreList/去掉重複後的資料.csv\"\n",
    "\n",
    "# 刪除舊檔案（如果存在）\n",
    "if os.path.exists(output_path):\n",
    "    os.remove(output_path)\n",
    "    print(f\"⚠️ 已刪除舊檔案: {output_path}\")\n",
    "\n",
    "if os.path.exists(deduplicated_output_path):\n",
    "    os.remove(deduplicated_output_path)\n",
    "    print(f\"⚠️ 已刪除舊檔案: {deduplicated_output_path}\")\n"
   ]
  },
  {
   "cell_type": "code",
   "execution_count": 9,
   "id": "149c8189",
   "metadata": {},
   "outputs": [
    {
     "name": "stdout",
     "output_type": "stream",
     "text": [
      "合併後的資料已成功儲存到: C:/Tibame-TJR101-T1/Peter/Data/StoreList/合併後的資料.csv，共有 556 筆資料。\n"
     ]
    }
   ],
   "source": [
    "# 合併所有 CSV 檔案\n",
    "if files:\n",
    "    try:\n",
    "        # 合併檔案並儲存\n",
    "        merged_df = pd.concat((pd.read_csv(file) for file in files), ignore_index=True)\n",
    "        merged_df.to_csv(output_path, index=False)\n",
    "        print(f\"合併後的資料已成功儲存到: {output_path}，共有 {len(merged_df)} 筆資料。\")\n",
    "    except Exception as e:\n",
    "        print(f\"合併或儲存檔案時發生錯誤：{e}\")\n",
    "else:\n",
    "    print(\"找不到任何符合條件的 CSV 檔案！\")"
   ]
  },
  {
   "cell_type": "code",
   "execution_count": null,
   "id": "aa4f8021",
   "metadata": {},
   "outputs": [
    {
     "name": "stdout",
     "output_type": "stream",
     "text": [
      "✅ 去重後的資料已成功儲存到: C:/Tibame-TJR101-T1/Peter/Data/StoreList/去掉重複後的資料.csv，共有 376 筆資料。\n"
     ]
    }
   ],
   "source": [
    "# 設定檔案路徑\n",
    "input_path = \"C:/Load/StoreList/合併後的資料.csv\"\n",
    "deduplicated_output_path = \"C:/Load/StoreList/去掉重複後的資料.csv\"\n",
    "\n",
    "# 檢查輸入檔案是否存在\n",
    "if os.path.exists(input_path):\n",
    "    try:\n",
    "        # 讀取合併後的資料\n",
    "        merged_df = pd.read_csv(input_path)\n",
    "        \n",
    "        # 去除重複的 name 和 url\n",
    "        deduplicated_df = merged_df.drop_duplicates(subset=[\"name\", \"url\"])\n",
    "        \n",
    "        # 儲存去重後的資料\n",
    "        deduplicated_df.to_csv(deduplicated_output_path, index=False)\n",
    "        print(f\"✅ 去重後的資料已成功儲存到: {deduplicated_output_path}，共有 {len(deduplicated_df)} 筆資料。\")\n",
    "    except Exception as e:\n",
    "        print(f\"⚠️ 去重或儲存檔案時發生錯誤：{e}\")\n",
    "else:\n",
    "    print(f\"找不到輸入檔案: {input_path}\")   "
   ]
  }
 ],
 "metadata": {
  "kernelspec": {
   "display_name": "tibame-tjr101-t1-B8c8m3kI-py3.12",
   "language": "python",
   "name": "python3"
  },
  "language_info": {
   "codemirror_mode": {
    "name": "ipython",
    "version": 3
   },
   "file_extension": ".py",
   "mimetype": "text/x-python",
   "name": "python",
   "nbconvert_exporter": "python",
   "pygments_lexer": "ipython3",
   "version": "3.12.10"
  }
 },
 "nbformat": 4,
 "nbformat_minor": 5
}
